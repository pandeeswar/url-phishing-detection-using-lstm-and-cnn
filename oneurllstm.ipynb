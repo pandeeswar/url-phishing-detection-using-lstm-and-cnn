{
  "nbformat": 4,
  "nbformat_minor": 0,
  "metadata": {
    "colab": {
      "provenance": [],
      "authorship_tag": "ABX9TyOxwmxJxwKY1m7ctwvB/N7n",
      "include_colab_link": true
    },
    "kernelspec": {
      "name": "python3",
      "display_name": "Python 3"
    },
    "language_info": {
      "name": "python"
    }
  },
  "cells": [
    {
      "cell_type": "markdown",
      "metadata": {
        "id": "view-in-github",
        "colab_type": "text"
      },
      "source": [
        "<a href=\"https://colab.research.google.com/github/pandeeswar/url-phishing-detection-using-lstm-and-cnn/blob/main/oneurllstm.ipynb\" target=\"_parent\"><img src=\"https://colab.research.google.com/assets/colab-badge.svg\" alt=\"Open In Colab\"/></a>"
      ]
    },
    {
      "cell_type": "code",
      "execution_count": null,
      "metadata": {
        "id": "LzL7Sp8V3Olt"
      },
      "outputs": [],
      "source": [
        "import re\n",
        "import requests\n",
        "import numpy as np\n",
        "import pandas as pd\n",
        "from sklearn.metrics import classification_report\n",
        "from keras.models import Sequential\n",
        "from keras.layers import LSTM, Dense, Dropout"
      ]
    },
    {
      "cell_type": "code",
      "source": [
        "# function to extract hyperlinks from a given text\n",
        "def extract_hyperlinks(text):\n",
        "    return re.findall(\"(?P<url>https?://[^\\s]+)\", text)\n"
      ],
      "metadata": {
        "id": "0S-dWbUX3kNy"
      },
      "execution_count": null,
      "outputs": []
    },
    {
      "cell_type": "code",
      "source": [
        "# load the dataset\n",
        "url = \"https://www.example.com\"\n",
        "response = requests.get(url)\n",
        "data = response.text"
      ],
      "metadata": {
        "id": "JmJBn5fI3oNv"
      },
      "execution_count": null,
      "outputs": []
    },
    {
      "cell_type": "code",
      "source": [
        "# extract the hyperlinks from the dataset\n",
        "hyperlinks = extract_hyperlinks(data)\n",
        "\n"
      ],
      "metadata": {
        "id": "-sU_0ORf3t1O"
      },
      "execution_count": null,
      "outputs": []
    },
    {
      "cell_type": "code",
      "source": [
        "# print the hyperlinks\n",
        "print(\"Hyperlinks extracted from the website:\")\n",
        "for hyperlink in hyperlinks:\n",
        "    print(hyperlink)\n"
      ],
      "metadata": {
        "colab": {
          "base_uri": "https://localhost:8080/"
        },
        "id": "_GjaCWmd39gy",
        "outputId": "aa8d9f14-8d80-4d57-fd9d-7c929a5a15d8"
      },
      "execution_count": null,
      "outputs": [
        {
          "output_type": "stream",
          "name": "stdout",
          "text": [
            "Hyperlinks extracted from the website:\n",
            "https://www.iana.org/domains/example\">More\n"
          ]
        }
      ]
    },
    {
      "cell_type": "code",
      "source": [
        "# convert the hyperlinks to a numerical representation\n",
        "max_len = 1000\n",
        "chars = sorted(list(set(data)))\n",
        "char_indices = dict((c, i) for i, c in enumerate(chars))\n",
        "indices_char = dict((i, c) for i, c in enumerate(chars))\n",
        "sequences = []\n",
        "next_chars = []\n",
        "for i in range(0, len(data) - max_len, 1):\n",
        "    sequence = data[i:i + max_len]\n",
        "    sequences.append([char_indices[char] for char in sequence])\n",
        "    next_chars.append(char_indices[data[i + max_len]])\n",
        "X = np.reshape(sequences, (len(sequences), max_len, 1))\n",
        "X = X / float(len(chars))\n",
        "y = pd.get_dummies(next_chars).values\n"
      ],
      "metadata": {
        "id": "IPTg2pib4BFn"
      },
      "execution_count": null,
      "outputs": []
    },
    {
      "cell_type": "code",
      "source": [
        "# define the LSTM model\n",
        "model = Sequential()\n",
        "model.add(LSTM(256, input_shape=(X.shape[1], X.shape[2]), return_sequences=True))\n",
        "model.add(Dropout(0.2))\n",
        "model.add(LSTM(256))\n",
        "model.add(Dropout(0.2))\n",
        "model.add(Dense(y.shape[1], activation='softmax'))\n",
        "model.compile(loss='categorical_crossentropy', optimizer='adam')"
      ],
      "metadata": {
        "id": "DY3oAN174FXf"
      },
      "execution_count": null,
      "outputs": []
    },
    {
      "cell_type": "code",
      "source": [
        "# train the model\n",
        "model.fit(X, y, epochs=2, batch_size=1)\n",
        "\n"
      ],
      "metadata": {
        "colab": {
          "base_uri": "https://localhost:8080/"
        },
        "id": "xDCjONX44JQ7",
        "outputId": "814d20f8-c209-47e0-9218-7c068eb8d738"
      },
      "execution_count": null,
      "outputs": [
        {
          "output_type": "stream",
          "name": "stdout",
          "text": [
            "Epoch 1/2\n",
            "256/256 [==============================] - 586s 2s/step - loss: 3.3767\n",
            "Epoch 2/2\n",
            "256/256 [==============================] - 587s 2s/step - loss: 3.2791\n"
          ]
        },
        {
          "output_type": "execute_result",
          "data": {
            "text/plain": [
              "<keras.callbacks.History at 0x7f087bedcb50>"
            ]
          },
          "metadata": {},
          "execution_count": 8
        }
      ]
    },
    {
      "cell_type": "code",
      "source": [
        "# predict the phishing probability for each hyperlink using the LSTM model\n",
        "phishing_probs = model.predict(X)\n",
        "print(phishing_probs)"
      ],
      "metadata": {
        "colab": {
          "base_uri": "https://localhost:8080/"
        },
        "id": "-hSCGyff9dM7",
        "outputId": "debf9e7f-c968-4713-d2fa-f75a7431621e"
      },
      "execution_count": null,
      "outputs": [
        {
          "output_type": "stream",
          "name": "stdout",
          "text": [
            "8/8 [==============================] - 18s 2s/step\n",
            "[[0.02385678 0.086992   0.00970003 ... 0.01836065 0.01268108 0.01124205]\n",
            " [0.02384827 0.08707901 0.00965053 ... 0.01814    0.0125643  0.01116271]\n",
            " [0.0238202  0.08537435 0.00988228 ... 0.01825592 0.01288119 0.0115296 ]\n",
            " ...\n",
            " [0.02477172 0.08074263 0.01073053 ... 0.01882392 0.01327892 0.01233238]\n",
            " [0.02469291 0.08256759 0.01040801 ... 0.01850773 0.01289753 0.01189923]\n",
            " [0.02449393 0.08355957 0.01023662 ... 0.01840604 0.01280387 0.01174933]]\n"
          ]
        }
      ]
    },
    {
      "cell_type": "code",
      "source": [
        "# print the phishing probabilities and the corresponding hyperlinks\n",
        "print(\"Hyperlinks and their phishing probabilities:\")\n",
        "for i in range(len(hyperlinks)):\n",
        "    print(hyperlinks[i] + ' : ' + str(phishing_probs[i]))\n",
        "\n"
      ],
      "metadata": {
        "colab": {
          "base_uri": "https://localhost:8080/"
        },
        "id": "c10cJ9zp9yMf",
        "outputId": "d7266567-1d35-44dc-e468-965e983cd3cd"
      },
      "execution_count": null,
      "outputs": [
        {
          "output_type": "stream",
          "name": "stdout",
          "text": [
            "Hyperlinks and their phishing probabilities:\n",
            "https://www.iana.org/domains/example\">More : [0.02385678 0.086992   0.00970003 0.02619178 0.04362282 0.00809447\n",
            " 0.0401058  0.00633827 0.02995243 0.00833621 0.00675875 0.05093301\n",
            " 0.00847787 0.01333284 0.02667139 0.0506923  0.02368897 0.01065412\n",
            " 0.02429094 0.07387248 0.00706022 0.02392138 0.02812679 0.05056726\n",
            " 0.06524196 0.0375847  0.04421218 0.03284357 0.04589787 0.03797008\n",
            " 0.01172697 0.01836065 0.01268108 0.01124205]\n"
          ]
        }
      ]
    }
  ]
}